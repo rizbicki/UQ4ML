{
  "cells": [
    {
      "cell_type": "code",
      "execution_count": null,
      "metadata": {
        "colab": {
          "base_uri": "https://localhost:8080/"
        },
        "id": "ONmr2CHD8T4X",
        "outputId": "f4e7d64c-14d1-4c5b-b1aa-5eafe8e3efc1"
      },
      "outputs": [
        {
          "output_type": "stream",
          "name": "stdout",
          "text": [
            "Collecting FlexCode[all]\n",
            "  Downloading flexcode-0.2.1-py3-none-any.whl.metadata (26 kB)\n",
            "\u001b[33mWARNING: flexcode 0.2.1 does not provide the extra 'all'\u001b[0m\u001b[33m\n",
            "\u001b[0mCollecting deprecated (from FlexCode[all])\n",
            "  Downloading Deprecated-1.2.14-py2.py3-none-any.whl.metadata (5.4 kB)\n",
            "Requirement already satisfied: ipykernel in /usr/local/lib/python3.10/dist-packages (from FlexCode[all]) (5.5.6)\n",
            "Collecting pywavelets (from FlexCode[all])\n",
            "  Downloading pywavelets-1.7.0-cp310-cp310-manylinux_2_17_x86_64.manylinux2014_x86_64.whl.metadata (9.0 kB)\n",
            "Requirement already satisfied: scikit-learn>=0.18 in /usr/local/lib/python3.10/dist-packages (from FlexCode[all]) (1.3.2)\n",
            "Requirement already satisfied: xgboost in /usr/local/lib/python3.10/dist-packages (from FlexCode[all]) (2.1.1)\n",
            "Requirement already satisfied: numpy<2.0,>=1.17.3 in /usr/local/lib/python3.10/dist-packages (from scikit-learn>=0.18->FlexCode[all]) (1.26.4)\n",
            "Requirement already satisfied: scipy>=1.5.0 in /usr/local/lib/python3.10/dist-packages (from scikit-learn>=0.18->FlexCode[all]) (1.13.1)\n",
            "Requirement already satisfied: joblib>=1.1.1 in /usr/local/lib/python3.10/dist-packages (from scikit-learn>=0.18->FlexCode[all]) (1.4.2)\n",
            "Requirement already satisfied: threadpoolctl>=2.0.0 in /usr/local/lib/python3.10/dist-packages (from scikit-learn>=0.18->FlexCode[all]) (3.5.0)\n",
            "Requirement already satisfied: wrapt<2,>=1.10 in /usr/local/lib/python3.10/dist-packages (from deprecated->FlexCode[all]) (1.16.0)\n",
            "Requirement already satisfied: ipython-genutils in /usr/local/lib/python3.10/dist-packages (from ipykernel->FlexCode[all]) (0.2.0)\n",
            "Requirement already satisfied: ipython>=5.0.0 in /usr/local/lib/python3.10/dist-packages (from ipykernel->FlexCode[all]) (7.34.0)\n",
            "Requirement already satisfied: traitlets>=4.1.0 in /usr/local/lib/python3.10/dist-packages (from ipykernel->FlexCode[all]) (5.7.1)\n",
            "Requirement already satisfied: jupyter-client in /usr/local/lib/python3.10/dist-packages (from ipykernel->FlexCode[all]) (6.1.12)\n",
            "Requirement already satisfied: tornado>=4.2 in /usr/local/lib/python3.10/dist-packages (from ipykernel->FlexCode[all]) (6.3.3)\n",
            "Requirement already satisfied: nvidia-nccl-cu12 in /usr/local/lib/python3.10/dist-packages (from xgboost->FlexCode[all]) (2.22.3)\n",
            "Requirement already satisfied: setuptools>=18.5 in /usr/local/lib/python3.10/dist-packages (from ipython>=5.0.0->ipykernel->FlexCode[all]) (71.0.4)\n",
            "Collecting jedi>=0.16 (from ipython>=5.0.0->ipykernel->FlexCode[all])\n",
            "  Using cached jedi-0.19.1-py2.py3-none-any.whl.metadata (22 kB)\n",
            "Requirement already satisfied: decorator in /usr/local/lib/python3.10/dist-packages (from ipython>=5.0.0->ipykernel->FlexCode[all]) (4.4.2)\n",
            "Requirement already satisfied: pickleshare in /usr/local/lib/python3.10/dist-packages (from ipython>=5.0.0->ipykernel->FlexCode[all]) (0.7.5)\n",
            "Requirement already satisfied: prompt-toolkit!=3.0.0,!=3.0.1,<3.1.0,>=2.0.0 in /usr/local/lib/python3.10/dist-packages (from ipython>=5.0.0->ipykernel->FlexCode[all]) (3.0.47)\n",
            "Requirement already satisfied: pygments in /usr/local/lib/python3.10/dist-packages (from ipython>=5.0.0->ipykernel->FlexCode[all]) (2.16.1)\n",
            "Requirement already satisfied: backcall in /usr/local/lib/python3.10/dist-packages (from ipython>=5.0.0->ipykernel->FlexCode[all]) (0.2.0)\n",
            "Requirement already satisfied: matplotlib-inline in /usr/local/lib/python3.10/dist-packages (from ipython>=5.0.0->ipykernel->FlexCode[all]) (0.1.7)\n",
            "Requirement already satisfied: pexpect>4.3 in /usr/local/lib/python3.10/dist-packages (from ipython>=5.0.0->ipykernel->FlexCode[all]) (4.9.0)\n",
            "Requirement already satisfied: jupyter-core>=4.6.0 in /usr/local/lib/python3.10/dist-packages (from jupyter-client->ipykernel->FlexCode[all]) (5.7.2)\n",
            "Requirement already satisfied: pyzmq>=13 in /usr/local/lib/python3.10/dist-packages (from jupyter-client->ipykernel->FlexCode[all]) (24.0.1)\n",
            "Requirement already satisfied: python-dateutil>=2.1 in /usr/local/lib/python3.10/dist-packages (from jupyter-client->ipykernel->FlexCode[all]) (2.8.2)\n",
            "Requirement already satisfied: parso<0.9.0,>=0.8.3 in /usr/local/lib/python3.10/dist-packages (from jedi>=0.16->ipython>=5.0.0->ipykernel->FlexCode[all]) (0.8.4)\n",
            "Requirement already satisfied: platformdirs>=2.5 in /usr/local/lib/python3.10/dist-packages (from jupyter-core>=4.6.0->jupyter-client->ipykernel->FlexCode[all]) (4.2.2)\n",
            "Requirement already satisfied: ptyprocess>=0.5 in /usr/local/lib/python3.10/dist-packages (from pexpect>4.3->ipython>=5.0.0->ipykernel->FlexCode[all]) (0.7.0)\n",
            "Requirement already satisfied: wcwidth in /usr/local/lib/python3.10/dist-packages (from prompt-toolkit!=3.0.0,!=3.0.1,<3.1.0,>=2.0.0->ipython>=5.0.0->ipykernel->FlexCode[all]) (0.2.13)\n",
            "Requirement already satisfied: six>=1.5 in /usr/local/lib/python3.10/dist-packages (from python-dateutil>=2.1->jupyter-client->ipykernel->FlexCode[all]) (1.16.0)\n",
            "Downloading Deprecated-1.2.14-py2.py3-none-any.whl (9.6 kB)\n",
            "Downloading flexcode-0.2.1-py3-none-any.whl (26 kB)\n",
            "Downloading pywavelets-1.7.0-cp310-cp310-manylinux_2_17_x86_64.manylinux2014_x86_64.whl (4.5 MB)\n",
            "\u001b[2K   \u001b[90m━━━━━━━━━━━━━━━━━━━━━━━━━━━━━━━━━━━━━━━━\u001b[0m \u001b[32m4.5/4.5 MB\u001b[0m \u001b[31m31.8 MB/s\u001b[0m eta \u001b[36m0:00:00\u001b[0m\n",
            "\u001b[?25hUsing cached jedi-0.19.1-py2.py3-none-any.whl (1.6 MB)\n",
            "Installing collected packages: pywavelets, jedi, deprecated, FlexCode\n",
            "Successfully installed FlexCode-0.2.1 deprecated-1.2.14 jedi-0.19.1 pywavelets-1.7.0\n"
          ]
        }
      ],
      "source": [
        "!pip install FlexCode[all]"
      ]
    },
    {
      "cell_type": "code",
      "execution_count": null,
      "metadata": {
        "id": "GFsOKccREILH"
      },
      "outputs": [],
      "source": []
    },
    {
      "cell_type": "code",
      "execution_count": null,
      "metadata": {
        "colab": {
          "base_uri": "https://localhost:8080/"
        },
        "id": "48Zvf1nL8t9X",
        "outputId": "e91641c9-2026-4314-ab38-c588d47390cf"
      },
      "outputs": [
        {
          "output_type": "stream",
          "name": "stdout",
          "text": [
            "Collecting zuko\n",
            "  Downloading zuko-1.2.0-py3-none-any.whl.metadata (5.9 kB)\n",
            "Requirement already satisfied: numpy>=1.20.0 in /usr/local/lib/python3.10/dist-packages (from zuko) (1.26.4)\n",
            "Requirement already satisfied: torch>=1.12.0 in /usr/local/lib/python3.10/dist-packages (from zuko) (2.4.0+cu121)\n",
            "Requirement already satisfied: filelock in /usr/local/lib/python3.10/dist-packages (from torch>=1.12.0->zuko) (3.15.4)\n",
            "Requirement already satisfied: typing-extensions>=4.8.0 in /usr/local/lib/python3.10/dist-packages (from torch>=1.12.0->zuko) (4.12.2)\n",
            "Requirement already satisfied: sympy in /usr/local/lib/python3.10/dist-packages (from torch>=1.12.0->zuko) (1.13.2)\n",
            "Requirement already satisfied: networkx in /usr/local/lib/python3.10/dist-packages (from torch>=1.12.0->zuko) (3.3)\n",
            "Requirement already satisfied: jinja2 in /usr/local/lib/python3.10/dist-packages (from torch>=1.12.0->zuko) (3.1.4)\n",
            "Requirement already satisfied: fsspec in /usr/local/lib/python3.10/dist-packages (from torch>=1.12.0->zuko) (2024.6.1)\n",
            "Requirement already satisfied: MarkupSafe>=2.0 in /usr/local/lib/python3.10/dist-packages (from jinja2->torch>=1.12.0->zuko) (2.1.5)\n",
            "Requirement already satisfied: mpmath<1.4,>=1.1.0 in /usr/local/lib/python3.10/dist-packages (from sympy->torch>=1.12.0->zuko) (1.3.0)\n",
            "Downloading zuko-1.2.0-py3-none-any.whl (41 kB)\n",
            "\u001b[2K   \u001b[90m━━━━━━━━━━━━━━━━━━━━━━━━━━━━━━━━━━━━━━━━\u001b[0m \u001b[32m41.3/41.3 kB\u001b[0m \u001b[31m1.2 MB/s\u001b[0m eta \u001b[36m0:00:00\u001b[0m\n",
            "\u001b[?25hInstalling collected packages: zuko\n",
            "Successfully installed zuko-1.2.0\n"
          ]
        }
      ],
      "source": [
        "!pip install zuko"
      ]
    },
    {
      "cell_type": "code",
      "execution_count": null,
      "metadata": {
        "id": "Lc4tAQbE7t6y"
      },
      "outputs": [],
      "source": [
        "from enum import Enum, auto\n",
        "\n",
        "import torch\n",
        "import torch.nn as nn\n",
        "import torch.nn.functional as F\n",
        "import numpy as np\n",
        "import scipy.stats\n",
        "import matplotlib.pyplot as plt\n",
        "\n",
        "import sklearn\n",
        "\n",
        "from argparse import ArgumentParser\n",
        "import logging\n",
        "import torch.optim as optim\n",
        "\n",
        "import numpy as np\n",
        "import scipy.stats\n",
        "import flexcode\n",
        "from flexcode.regression_models import NN\n",
        "from flexcode.regression_models import RandomForest\n",
        "import matplotlib.pyplot as plt\n",
        "\n",
        "import zuko"
      ]
    },
    {
      "cell_type": "code",
      "execution_count": null,
      "metadata": {
        "id": "-lXaTPVo9Heg"
      },
      "outputs": [],
      "source": [
        "class NoiseType(Enum):\n",
        "    DIAGONAL = auto()\n",
        "    ISOTROPIC = auto()\n",
        "    ISOTROPIC_ACROSS_CLUSTERS = auto()\n",
        "    FIXED = auto()\n",
        "\n",
        "\n",
        "class MixtureDensityNetwork(nn.Module):\n",
        "    \"\"\"\n",
        "    Mixture density network.\n",
        "\n",
        "    [ Bishop, 1994 ]\n",
        "\n",
        "    Parameters\n",
        "    ----------\n",
        "    dim_in: int; dimensionality of the covariates\n",
        "    dim_out: int; dimensionality of the response variable\n",
        "    n_components: int; number of components in the mixture model\n",
        "    \"\"\"\n",
        "\n",
        "    def __init__(self, dim_in, dim_out, n_components, hidden_dim, noise_type=NoiseType.DIAGONAL, fixed_noise_level=None):\n",
        "        super().__init__()\n",
        "        assert (fixed_noise_level is not None) == (\n",
        "            noise_type is NoiseType.FIXED)\n",
        "        num_sigma_channels = {\n",
        "            NoiseType.DIAGONAL: dim_out * n_components,\n",
        "            NoiseType.ISOTROPIC: n_components,\n",
        "            NoiseType.ISOTROPIC_ACROSS_CLUSTERS: 1,\n",
        "            NoiseType.FIXED: 0,\n",
        "        }[noise_type]\n",
        "        self.dim_in, self.dim_out, self.n_components = dim_in, dim_out, n_components\n",
        "        self.noise_type, self.fixed_noise_level = noise_type, fixed_noise_level\n",
        "        self.pi_network = nn.Sequential(\n",
        "            nn.Linear(dim_in, hidden_dim),\n",
        "            nn.ReLU(),\n",
        "            nn.Linear(hidden_dim, hidden_dim),\n",
        "            nn.ReLU(),\n",
        "            nn.Linear(hidden_dim, n_components),\n",
        "        )\n",
        "        self.normal_network = nn.Sequential(\n",
        "            nn.Linear(dim_in, hidden_dim),\n",
        "            nn.ReLU(),\n",
        "            nn.Linear(hidden_dim, hidden_dim),\n",
        "            nn.ReLU(),\n",
        "            nn.Linear(hidden_dim, dim_out * n_components + num_sigma_channels)\n",
        "        )\n",
        "\n",
        "    def forward(self, x, eps=1e-6):\n",
        "        #\n",
        "        # Returns\n",
        "        # -------\n",
        "        # log_pi: (bsz, n_components)\n",
        "        # mu: (bsz, n_components, dim_out)\n",
        "        # sigma: (bsz, n_components, dim_out)\n",
        "        #\n",
        "        log_pi = torch.log_softmax(self.pi_network(x), dim=-1)\n",
        "        normal_params = self.normal_network(x)\n",
        "        mu = normal_params[..., :self.dim_out * self.n_components]\n",
        "        sigma = normal_params[..., self.dim_out * self.n_components:]\n",
        "        if self.noise_type is NoiseType.DIAGONAL:\n",
        "            sigma = torch.exp(sigma + eps)\n",
        "        if self.noise_type is NoiseType.ISOTROPIC:\n",
        "            sigma = torch.exp(sigma + eps).repeat(1, self.dim_out)\n",
        "        if self.noise_type is NoiseType.ISOTROPIC_ACROSS_CLUSTERS:\n",
        "            sigma = torch.exp(sigma + eps).repeat(1,\n",
        "                                                  self.n_components * self.dim_out)\n",
        "        if self.noise_type is NoiseType.FIXED:\n",
        "            sigma = torch.full_like(mu, fill_value=self.fixed_noise_level)\n",
        "        mu = mu.reshape(-1, self.n_components, self.dim_out)\n",
        "        sigma = sigma.reshape(-1, self.n_components, self.dim_out)\n",
        "        return log_pi, mu, sigma\n",
        "\n",
        "    def loss(self, x, y):\n",
        "        log_pi, mu, sigma = self.forward(x)\n",
        "        z_score = (y.unsqueeze(1) - mu) / sigma\n",
        "        normal_loglik = (\n",
        "            -0.5 * torch.einsum(\"bij,bij->bi\", z_score, z_score)\n",
        "            - torch.sum(torch.log(sigma), dim=-1)\n",
        "        )\n",
        "        loglik = torch.logsumexp(log_pi + normal_loglik, dim=-1)\n",
        "        return -loglik\n",
        "\n",
        "    def sample(self, x):\n",
        "        log_pi, mu, sigma = self.forward(x)\n",
        "        cum_pi = torch.cumsum(torch.exp(log_pi), dim=-1)\n",
        "        rvs = torch.rand(len(x), 1).to(x)\n",
        "        rand_pi = torch.searchsorted(cum_pi, rvs)\n",
        "        rand_normal = torch.randn_like(mu) * sigma + mu\n",
        "        samples = torch.take_along_dim(\n",
        "            rand_normal, indices=rand_pi.unsqueeze(-1), dim=1).squeeze(dim=1)\n",
        "        return samples"
      ]
    },
    {
      "cell_type": "code",
      "execution_count": null,
      "metadata": {
        "id": "OL9TSILG9Kpw"
      },
      "outputs": [],
      "source": [
        "def generate_data(n_draws,d):\n",
        "    x = np.random.normal(0, 1, n_draws*d)\n",
        "    x = x.reshape((n_draws,d))\n",
        "    y = np.random.normal(x[:,0], 1, n_draws)\n",
        "    return x, y.reshape((len(y), 1))\n",
        "\n",
        "d=50\n",
        "x_train, y_train = generate_data(10000,d)\n",
        "x_validation, y_validation = generate_data(10000,d)\n",
        "x_test, y_test = generate_data(10000,d)"
      ]
    },
    {
      "cell_type": "code",
      "execution_count": null,
      "metadata": {
        "id": "TfsuU3LG9NUn"
      },
      "outputs": [],
      "source": [
        "n_inter = 200\n",
        "x = torch.Tensor(x_train)\n",
        "y = torch.Tensor(y_train)\n",
        "\n",
        "mx_model = MixtureDensityNetwork(d, 1, n_components=3, hidden_dim=50, noise_type=NoiseType.DIAGONAL)\n",
        "optimizer = optim.Adam(mx_model.parameters(), lr=0.005)\n",
        "scheduler = optim.lr_scheduler.CosineAnnealingLR(optimizer, n_inter)\n",
        "\n",
        "for i in range(n_inter):\n",
        "    optimizer.zero_grad()\n",
        "    loss = mx_model.loss(x, y).mean()\n",
        "    loss.backward()\n",
        "    optimizer.step()\n",
        "    scheduler.step()"
      ]
    },
    {
      "cell_type": "code",
      "execution_count": null,
      "metadata": {
        "id": "p8VW2I009PVF"
      },
      "outputs": [],
      "source": [
        "# Parameterize model\n",
        "fx_model = flexcode.FlexCodeModel(RandomForest, max_basis=5, basis_system=\"cosine\")\n",
        "\n",
        "# Fit and tune model\n",
        "fx_model.fit(x_train, y_train)\n",
        "fx_model.tune(x_validation, y_validation)"
      ]
    },
    {
      "cell_type": "code",
      "execution_count": null,
      "metadata": {
        "id": "uAwa1Xvi9T57"
      },
      "outputs": [],
      "source": [
        "# Neural spline flow (NSF) with 3 sample features and 5 context features\n",
        "flow = zuko.flows.NSF(1, d, transforms=3, hidden_features=[128] * 3)\n",
        "\n",
        "# Train to maximize the log-likelihood\n",
        "optimizer = torch.optim.AdamW(flow.parameters(), lr=1e-3)\n",
        "\n",
        "for i in range(n_inter):\n",
        "    loss = -flow(torch.Tensor(x_train)).log_prob(torch.Tensor(y_train))  # -log p(y | x)\n",
        "    loss = loss.mean()\n",
        "\n",
        "    optimizer.zero_grad()\n",
        "    loss.backward()\n",
        "    optimizer.step()"
      ]
    },
    {
      "cell_type": "markdown",
      "metadata": {
        "id": "zx_qHAwC9deT"
      },
      "source": [
        "### Gaussian Mixture"
      ]
    },
    {
      "cell_type": "code",
      "execution_count": null,
      "metadata": {
        "id": "PPMa3hCw9YFO"
      },
      "outputs": [],
      "source": [
        "x_test = torch.Tensor(x_test)\n",
        "log_pi, mu, sigma = mx_model.forward(x_test)\n",
        "\n",
        "log_pi=log_pi.detach().numpy()\n",
        "mu_mat=mu.detach().numpy().reshape(mu.size()[0],mu.size()[1])\n",
        "sigma_mat=sigma.detach().numpy().reshape(mu.size()[0],mu.size()[1])\n",
        "y_grid = np.linspace(-6, 6, 200)\n",
        "\n",
        "results = np.empty((mu.size()[0], mu.size()[1], y_grid.size))\n",
        "\n",
        "# Iterate over each new sample\n",
        "for i in range(mu.size()[0]):\n",
        "    aux_mu = mu_mat[i, :]\n",
        "    aux_sigma = sigma_mat[i, :]\n",
        "    aux_log_pi = log_pi[i, :]\n",
        "    z_score = (y_grid - aux_mu[:, np.newaxis])/aux_sigma[:, np.newaxis]\n",
        "    aux_log_pi=aux_log_pi[:, np.newaxis]\n",
        "    loglik = aux_log_pi - (1/2)*z_score**2 - np.log(np.sqrt(np.pi*2)*aux_sigma[:, np.newaxis])\n",
        "\n",
        "    # Store the result in the results array\n",
        "    results[i, :, :] = np.exp(loglik)\n",
        "\n",
        "densities=np.sum(results, axis=1)"
      ]
    },
    {
      "cell_type": "markdown",
      "metadata": {
        "id": "QDuyVILa9kHx"
      },
      "source": [
        "### FlexCode"
      ]
    },
    {
      "cell_type": "code",
      "execution_count": null,
      "metadata": {
        "colab": {
          "base_uri": "https://localhost:8080/"
        },
        "id": "hYdzMsUU9bQX",
        "outputId": "abc2fa6a-fe14-4ab8-ad93-7726b6e80fb7"
      },
      "outputs": [
        {
          "output_type": "stream",
          "name": "stderr",
          "text": [
            "/usr/local/lib/python3.10/dist-packages/joblib/externals/loky/process_executor.py:752: UserWarning: A worker stopped while some jobs were given to the executor. This can be caused by a too short worker timeout or by a memory leak.\n",
            "  warnings.warn(\n"
          ]
        }
      ],
      "source": [
        "fx_densities, fx_y_grid = fx_model.predict(x_test, n_grid=200)"
      ]
    },
    {
      "cell_type": "markdown",
      "metadata": {
        "id": "wePd5bQv9nKN"
      },
      "source": [
        "### Normalizing Flows\n"
      ]
    },
    {
      "cell_type": "code",
      "execution_count": null,
      "metadata": {
        "id": "GiHBuZqO9oCW"
      },
      "outputs": [],
      "source": [
        "densities_flow = np.empty((x_test.size()[0], y_grid.size))\n",
        "for i in range(x_test.size()[0]):\n",
        "    x_test_rep = np.repeat(x_test[i,:].detach().numpy()[:, np.newaxis].T, repeats=y_grid.size, axis=0)\n",
        "    flow_test=flow(torch.Tensor(x_test_rep))\n",
        "    densities_flow[i, :] = np.exp(flow_test.log_prob(torch.Tensor(y_grid[:, np.newaxis])).detach().numpy())"
      ]
    },
    {
      "cell_type": "markdown",
      "metadata": {
        "id": "OS-06gR19qDi"
      },
      "source": [
        "## Plots"
      ]
    },
    {
      "cell_type": "code",
      "source": [
        "import matplotlib.pyplot as plt\n",
        "import scipy.stats\n",
        "from matplotlib.backends.backend_pdf import PdfPages\n",
        "import os\n",
        "\n",
        "# Custom theme settings to match ggplot2's theme_bw but with a closed box\n",
        "plt.rcParams.update({\n",
        "    'axes.edgecolor': 'black',\n",
        "    'axes.linewidth': 0.8,\n",
        "    'axes.grid': True,\n",
        "    'grid.color': '#D3D3D3',\n",
        "    'grid.linestyle': '-',  # Solid lines for grid\n",
        "    'grid.linewidth': 0.6,\n",
        "    'grid.alpha': 0.7,\n",
        "    'axes.facecolor': 'white',  # White background\n",
        "    'axes.spines.top': True,  # Enable top spine\n",
        "    'axes.spines.right': True,  # Enable right spine\n",
        "    'font.size': 16,  # Reduced font size for cleaner look\n",
        "    'xtick.bottom': True,\n",
        "    'ytick.left': True,\n",
        "})\n",
        "\n",
        "# Define the custom colors\n",
        "color1 = \"#1E88E5\"  # Blue\n",
        "color2 = \"#D81B60\"  # Pink\n",
        "color3 = \"#44CA2E\"  # Green\n",
        "\n",
        "# Number of subplots\n",
        "num_plots = 6\n",
        "rows = (num_plots + 1) // 2  # Calculate number of rows needed for 2 panels per row\n",
        "\n",
        "# Create subplots with a shared legend\n",
        "fig, axs = plt.subplots(rows, 2, figsize=(16, 4 * rows), sharex=True)\n",
        "\n",
        "# Adjust the layout to make space for the legend at the top\n",
        "plt.subplots_adjust(top=0.85, bottom=0.1, left=0.1, right=0.9, hspace=0.4)\n",
        "\n",
        "axs = axs.flatten()  # Flatten the array of axes for easy iteration\n",
        "\n",
        "# Plot each panel with increased line width\n",
        "for ii in range(num_plots):\n",
        "    true_density = scipy.stats.norm.pdf(y_grid, x_test[ii, 0], 1)\n",
        "\n",
        "    axs[ii].plot(y_grid, densities[ii, :], color=color1, label=\"Gaussian Mixture\", linewidth=3)\n",
        "    axs[ii].plot(fx_y_grid, fx_densities[ii, :], color=color2, label=\"FlexCode\", linewidth=3)\n",
        "    axs[ii].plot(fx_y_grid, densities_flow[ii, :], color=color3, label=\"NFlow\", linewidth=3)\n",
        "    axs[ii].plot(y_grid, true_density, color=\"black\", label=\"True Density\", linewidth=3)\n",
        "\n",
        "    # Custom grid settings\n",
        "    axs[ii].grid(True, which='major', color='#D3D3D3', linestyle='-', linewidth=0.6)\n",
        "    axs[ii].grid(False, which='minor')\n",
        "\n",
        "    # Add x and y labels\n",
        "    axs[ii].set_xlabel('y')\n",
        "    axs[ii].set_ylabel('f(y|x)')\n",
        "\n",
        "# Hide any unused subplots\n",
        "for ax in axs[num_plots:]:\n",
        "    ax.set_visible(False)\n",
        "\n",
        "# Create a single legend for all subplots with smaller font size, placed closer to the plot area at the top\n",
        "handles, labels = axs[0].get_legend_handles_labels()\n",
        "fig.legend(handles, labels, loc='upper center', bbox_to_anchor=(0.5, 0.97), fontsize=16, ncol=3, frameon=False)\n",
        "\n",
        "# Save the figure to a PDF file\n",
        "with PdfPages('/content/plot_densities_gaussian.pdf') as pdf:\n",
        "    pdf.savefig(fig, bbox_inches='tight')\n",
        "    plt.close(fig)\n",
        "\n",
        "# Move the file to Google Drive\n",
        "os.system('mv /content/plot_densities_gaussian.pdf /content/gdrive/')\n"
      ],
      "metadata": {
        "colab": {
          "base_uri": "https://localhost:8080/"
        },
        "id": "6AlSe42XcOME",
        "outputId": "bbed4b06-d951-486b-8bd7-5b3c8a1ed61c"
      },
      "execution_count": null,
      "outputs": [
        {
          "output_type": "execute_result",
          "data": {
            "text/plain": [
              "256"
            ]
          },
          "metadata": {},
          "execution_count": 39
        }
      ]
    },
    {
      "cell_type": "markdown",
      "metadata": {
        "id": "GDiZJaxJ-m4N"
      },
      "source": [
        "## Compute L2 loss"
      ]
    },
    {
      "cell_type": "code",
      "source": [
        "import sys\n",
        "sys.path.append('/content/cdetools/python/src')\n",
        "!pip install git+https://github.com/lee-group-cmu/cdetools.git#subdirectory=python\n"
      ],
      "metadata": {
        "colab": {
          "base_uri": "https://localhost:8080/"
        },
        "id": "DbacCvL8Vdvi",
        "outputId": "054a8e2f-8e83-4940-cb0f-9a266d1b492e"
      },
      "execution_count": null,
      "outputs": [
        {
          "output_type": "stream",
          "name": "stdout",
          "text": [
            "Collecting git+https://github.com/lee-group-cmu/cdetools.git#subdirectory=python\n",
            "  Cloning https://github.com/lee-group-cmu/cdetools.git to /tmp/pip-req-build-e7i1buzi\n",
            "  Running command git clone --filter=blob:none --quiet https://github.com/lee-group-cmu/cdetools.git /tmp/pip-req-build-e7i1buzi\n",
            "  Resolved https://github.com/lee-group-cmu/cdetools.git to commit 4bd829c0888bf3d3cf346eb60199bd784880c979\n",
            "  Preparing metadata (setup.py) ... \u001b[?25l\u001b[?25hdone\n",
            "Requirement already satisfied: numpy in /usr/local/lib/python3.10/dist-packages (from cdetools==0.0.2) (1.26.4)\n",
            "Requirement already satisfied: scipy in /usr/local/lib/python3.10/dist-packages (from cdetools==0.0.2) (1.13.1)\n",
            "Building wheels for collected packages: cdetools\n",
            "  Building wheel for cdetools (setup.py) ... \u001b[?25l\u001b[?25hdone\n",
            "  Created wheel for cdetools: filename=cdetools-0.0.2-py3-none-any.whl size=6653 sha256=4156a222e301fc528a5b460794380cf0160b06b15ca1361562758a9689eecf0c\n",
            "  Stored in directory: /tmp/pip-ephem-wheel-cache-u9piq1x3/wheels/72/f7/6a/e7648014b50f19fc040b9f7a4ac5eb5c15f4c0eb31fe75fcf2\n",
            "Successfully built cdetools\n",
            "Installing collected packages: cdetools\n",
            "Successfully installed cdetools-0.0.2\n"
          ]
        }
      ]
    },
    {
      "cell_type": "code",
      "source": [
        "import pandas as pd\n",
        "import cdetools as cdetools\n",
        "\n",
        "# Assuming the densities, y_grid, fx_densities, fx_y_grid, densities_flow, and y_test are defined\n",
        "\n",
        "# Calculate loss and standard error for each method\n",
        "gm_loss = cdetools.cde_loss(densities, y_grid, y_test)  # Gaussian Mixture\n",
        "fx_loss = cdetools.cde_loss(fx_densities, fx_y_grid, y_test)  # FlexCode\n",
        "nf_loss = cdetools.cde_loss(densities_flow, fx_y_grid, y_test)  # NFlow\n",
        "\n",
        "# Create a DataFrame with loss and standard error formatted as \"loss (standard error)\"\n",
        "results = pd.DataFrame({\n",
        "    'Gaussian Mixture': [f\"{gm_loss[0]:.4f} ({gm_loss[1]:.4f})\"],\n",
        "    'FlexCode': [f\"{fx_loss[0]:.4f} ({fx_loss[1]:.4f})\"],\n",
        "    'NFlow': [f\"{nf_loss[0]:.4f} ({nf_loss[1]:.4f})\"]\n",
        "})\n",
        "\n",
        "# Transpose the DataFrame\n",
        "results_transposed = results.T\n",
        "results_transposed.columns = ['Loss (Standard Error)']\n",
        "\n",
        "# Convert the transposed DataFrame to LaTeX format\n",
        "latex_code = results_transposed.to_latex(header=True, index=True)\n",
        "\n",
        "# Display the LaTeX code\n",
        "print(latex_code)\n"
      ],
      "metadata": {
        "colab": {
          "base_uri": "https://localhost:8080/"
        },
        "id": "qpSnOh3tY5Uw",
        "outputId": "f571db9b-072c-42a8-b7ec-62f143898336"
      },
      "execution_count": null,
      "outputs": [
        {
          "output_type": "stream",
          "name": "stdout",
          "text": [
            "\\begin{tabular}{ll}\n",
            "\\toprule\n",
            " & Loss (Standard Error) \\\\\n",
            "\\midrule\n",
            "Gaussian Mixture & 0.1154 (0.0121) \\\\\n",
            "FlexCode & -0.2657 (0.0015) \\\\\n",
            "NFlow & 0.1430 (0.0083) \\\\\n",
            "\\bottomrule\n",
            "\\end{tabular}\n",
            "\n"
          ]
        }
      ]
    },
    {
      "cell_type": "code",
      "execution_count": null,
      "metadata": {
        "colab": {
          "base_uri": "https://localhost:8080/"
        },
        "id": "iKYYKfP4Sqfe",
        "outputId": "d4275705-12dd-41a9-b064-4528fd13a61d"
      },
      "outputs": [
        {
          "output_type": "execute_result",
          "data": {
            "text/plain": [
              "array([0.92804484, 0.55958513, 0.59170408, ..., 0.76992398, 0.58735878,\n",
              "       0.2323181 ])"
            ]
          },
          "metadata": {},
          "execution_count": 48
        }
      ],
      "source": [
        "pit_gaussian = cdetools.cdf_coverage(densities, y_grid, y_test)  # Gaussian Mixture\n",
        "pit_flexcode = cdetools.cdf_coverage(fx_densities, fx_y_grid, y_test)  # FlexCode\n",
        "pit_nflow = cdetools.cdf_coverage(densities_flow, fx_y_grid, y_test)  # NFlow"
      ]
    },
    {
      "cell_type": "markdown",
      "source": [],
      "metadata": {
        "id": "FauUSWUpd8m9"
      }
    },
    {
      "cell_type": "markdown",
      "metadata": {
        "id": "FHKfgvm_-wTM"
      },
      "source": [
        "## PIT statistic"
      ]
    },
    {
      "cell_type": "code",
      "source": [
        "import numpy as np\n",
        "import matplotlib.pyplot as plt\n",
        "from scipy.stats import binom\n",
        "from matplotlib.backends.backend_pdf import PdfPages\n",
        "\n",
        "def pit_histogram(ax, values, ci_level, n_bins=30, title=None):\n",
        "    n = values.shape[0]\n",
        "    ci_quantity = (1 - ci_level) / 2\n",
        "    low_lim = binom.ppf(q=ci_quantity, n=n, p=1/n_bins)\n",
        "    upp_lim = binom.ppf(q=ci_level + ci_quantity, n=n, p=1/n_bins)\n",
        "\n",
        "    # Plot histogram with grey bars\n",
        "    ax.hist(values, bins=n_bins, color='grey')\n",
        "\n",
        "    # Add confidence interval lines and shaded area with color #1E88E5\n",
        "    ax.axhline(y=low_lim, color='grey')\n",
        "    ax.axhline(y=upp_lim, color='grey')\n",
        "    ax.axhline(y=n/n_bins, label='Uniform Average', color='red')\n",
        "    ax.fill_between(x=np.linspace(0, 1, 100),\n",
        "                    y1=np.repeat(low_lim, 100),\n",
        "                    y2=np.repeat(upp_lim, 100),\n",
        "                    color='#1E88E5', alpha=0.2)\n",
        "\n",
        "    # Set the x-axis limit to be between 0 and 1\n",
        "    ax.set_xlim(0, 1)\n",
        "\n",
        "    if title is not None:\n",
        "        ax.set_title(title, size=22)\n",
        "\n",
        "    ax.set_xlabel(\"PIT Value\", size=16)\n",
        "    ax.set_ylabel(\"Frequency\", size=16)\n",
        "\n",
        "# Generate the PDF with all panels and a single legend\n",
        "with PdfPages(\"/content/pit_histograms_panels_single_legend.pdf\") as pdf:\n",
        "    # Create a figure to hold the panels\n",
        "    fig, axes = plt.subplots(1, 3, figsize=(15, 5))  # 1 row, 3 columns\n",
        "\n",
        "    # Add each PIT plot to a panel\n",
        "    for ax, pit_data, title in zip(axes, [pit_gaussian, pit_flexcode, pit_nflow], [\"Gaussian Mixture\", \"FlexCode\", \"NFlow\"]):\n",
        "        pit_histogram(ax, pit_data, 0.95, n_bins=100, title=title)\n",
        "\n",
        "    # Create a single legend for all subplots\n",
        "    handles, labels = ax.get_legend_handles_labels()\n",
        "    fig.legend(handles, labels, loc='upper center', bbox_to_anchor=(0.5, 1.1), ncol=3, prop={'size': 16})\n",
        "\n",
        "    # Adjust layout and save to the PDF\n",
        "    plt.tight_layout()\n",
        "    pdf.savefig(fig)\n",
        "    plt.close()\n",
        "\n",
        "print(\"PDF saved successfully!\")\n"
      ],
      "metadata": {
        "colab": {
          "base_uri": "https://localhost:8080/"
        },
        "id": "ig9tFTIWhv7i",
        "outputId": "ea2dcca0-ef36-4724-eb46-b80ad7134573"
      },
      "execution_count": null,
      "outputs": [
        {
          "output_type": "stream",
          "name": "stdout",
          "text": [
            "PDF saved successfully!\n"
          ]
        }
      ]
    },
    {
      "cell_type": "code",
      "source": [
        "from scipy.stats import kstest\n",
        "\n",
        "\n",
        "# Perform KS test for uniformity on each PIT dataset\n",
        "ks_gaussian = kstest(pit_gaussian, 'uniform', args=(0, 1))\n",
        "ks_flexcode = kstest(pit_flexcode, 'uniform', args=(0, 1))\n",
        "ks_nflow = kstest(pit_nflow, 'uniform', args=(0, 1))\n",
        "\n",
        "ks_results = {\n",
        "    'Gaussian Mixture': ks_gaussian,\n",
        "    'FlexCode': ks_flexcode,\n",
        "    'NFlow': ks_nflow\n",
        "}\n",
        "ks_df = pd.DataFrame({\n",
        "    \"Model\": [\"Gaussian Mixture\", \"FlexCode\", \"NFlow\"],\n",
        "    \"KS Statistic\": [ks_gaussian.statistic, ks_flexcode.statistic, ks_nflow.statistic],\n",
        "    \"p-value\": [ks_gaussian.pvalue, ks_flexcode.pvalue, ks_nflow.pvalue]\n",
        "})\n",
        "ks_df"
      ],
      "metadata": {
        "colab": {
          "base_uri": "https://localhost:8080/",
          "height": 143
        },
        "id": "IQNw7Tpoj9km",
        "outputId": "1583e388-c8d0-486a-d476-3017dd286fa2"
      },
      "execution_count": null,
      "outputs": [
        {
          "output_type": "execute_result",
          "data": {
            "text/plain": [
              "              Model  KS Statistic        p-value\n",
              "0  Gaussian Mixture      0.145554  2.326410e-185\n",
              "1          FlexCode      0.055588   2.673130e-27\n",
              "2             NFlow      0.268852   0.000000e+00"
            ],
            "text/html": [
              "\n",
              "  <div id=\"df-6000dd24-28a5-41f5-9284-47220a0f2922\" class=\"colab-df-container\">\n",
              "    <div>\n",
              "<style scoped>\n",
              "    .dataframe tbody tr th:only-of-type {\n",
              "        vertical-align: middle;\n",
              "    }\n",
              "\n",
              "    .dataframe tbody tr th {\n",
              "        vertical-align: top;\n",
              "    }\n",
              "\n",
              "    .dataframe thead th {\n",
              "        text-align: right;\n",
              "    }\n",
              "</style>\n",
              "<table border=\"1\" class=\"dataframe\">\n",
              "  <thead>\n",
              "    <tr style=\"text-align: right;\">\n",
              "      <th></th>\n",
              "      <th>Model</th>\n",
              "      <th>KS Statistic</th>\n",
              "      <th>p-value</th>\n",
              "    </tr>\n",
              "  </thead>\n",
              "  <tbody>\n",
              "    <tr>\n",
              "      <th>0</th>\n",
              "      <td>Gaussian Mixture</td>\n",
              "      <td>0.145554</td>\n",
              "      <td>2.326410e-185</td>\n",
              "    </tr>\n",
              "    <tr>\n",
              "      <th>1</th>\n",
              "      <td>FlexCode</td>\n",
              "      <td>0.055588</td>\n",
              "      <td>2.673130e-27</td>\n",
              "    </tr>\n",
              "    <tr>\n",
              "      <th>2</th>\n",
              "      <td>NFlow</td>\n",
              "      <td>0.268852</td>\n",
              "      <td>0.000000e+00</td>\n",
              "    </tr>\n",
              "  </tbody>\n",
              "</table>\n",
              "</div>\n",
              "    <div class=\"colab-df-buttons\">\n",
              "\n",
              "  <div class=\"colab-df-container\">\n",
              "    <button class=\"colab-df-convert\" onclick=\"convertToInteractive('df-6000dd24-28a5-41f5-9284-47220a0f2922')\"\n",
              "            title=\"Convert this dataframe to an interactive table.\"\n",
              "            style=\"display:none;\">\n",
              "\n",
              "  <svg xmlns=\"http://www.w3.org/2000/svg\" height=\"24px\" viewBox=\"0 -960 960 960\">\n",
              "    <path d=\"M120-120v-720h720v720H120Zm60-500h600v-160H180v160Zm220 220h160v-160H400v160Zm0 220h160v-160H400v160ZM180-400h160v-160H180v160Zm440 0h160v-160H620v160ZM180-180h160v-160H180v160Zm440 0h160v-160H620v160Z\"/>\n",
              "  </svg>\n",
              "    </button>\n",
              "\n",
              "  <style>\n",
              "    .colab-df-container {\n",
              "      display:flex;\n",
              "      gap: 12px;\n",
              "    }\n",
              "\n",
              "    .colab-df-convert {\n",
              "      background-color: #E8F0FE;\n",
              "      border: none;\n",
              "      border-radius: 50%;\n",
              "      cursor: pointer;\n",
              "      display: none;\n",
              "      fill: #1967D2;\n",
              "      height: 32px;\n",
              "      padding: 0 0 0 0;\n",
              "      width: 32px;\n",
              "    }\n",
              "\n",
              "    .colab-df-convert:hover {\n",
              "      background-color: #E2EBFA;\n",
              "      box-shadow: 0px 1px 2px rgba(60, 64, 67, 0.3), 0px 1px 3px 1px rgba(60, 64, 67, 0.15);\n",
              "      fill: #174EA6;\n",
              "    }\n",
              "\n",
              "    .colab-df-buttons div {\n",
              "      margin-bottom: 4px;\n",
              "    }\n",
              "\n",
              "    [theme=dark] .colab-df-convert {\n",
              "      background-color: #3B4455;\n",
              "      fill: #D2E3FC;\n",
              "    }\n",
              "\n",
              "    [theme=dark] .colab-df-convert:hover {\n",
              "      background-color: #434B5C;\n",
              "      box-shadow: 0px 1px 3px 1px rgba(0, 0, 0, 0.15);\n",
              "      filter: drop-shadow(0px 1px 2px rgba(0, 0, 0, 0.3));\n",
              "      fill: #FFFFFF;\n",
              "    }\n",
              "  </style>\n",
              "\n",
              "    <script>\n",
              "      const buttonEl =\n",
              "        document.querySelector('#df-6000dd24-28a5-41f5-9284-47220a0f2922 button.colab-df-convert');\n",
              "      buttonEl.style.display =\n",
              "        google.colab.kernel.accessAllowed ? 'block' : 'none';\n",
              "\n",
              "      async function convertToInteractive(key) {\n",
              "        const element = document.querySelector('#df-6000dd24-28a5-41f5-9284-47220a0f2922');\n",
              "        const dataTable =\n",
              "          await google.colab.kernel.invokeFunction('convertToInteractive',\n",
              "                                                    [key], {});\n",
              "        if (!dataTable) return;\n",
              "\n",
              "        const docLinkHtml = 'Like what you see? Visit the ' +\n",
              "          '<a target=\"_blank\" href=https://colab.research.google.com/notebooks/data_table.ipynb>data table notebook</a>'\n",
              "          + ' to learn more about interactive tables.';\n",
              "        element.innerHTML = '';\n",
              "        dataTable['output_type'] = 'display_data';\n",
              "        await google.colab.output.renderOutput(dataTable, element);\n",
              "        const docLink = document.createElement('div');\n",
              "        docLink.innerHTML = docLinkHtml;\n",
              "        element.appendChild(docLink);\n",
              "      }\n",
              "    </script>\n",
              "  </div>\n",
              "\n",
              "\n",
              "<div id=\"df-96c023a1-0ce3-49b2-9e48-45e788b7cc69\">\n",
              "  <button class=\"colab-df-quickchart\" onclick=\"quickchart('df-96c023a1-0ce3-49b2-9e48-45e788b7cc69')\"\n",
              "            title=\"Suggest charts\"\n",
              "            style=\"display:none;\">\n",
              "\n",
              "<svg xmlns=\"http://www.w3.org/2000/svg\" height=\"24px\"viewBox=\"0 0 24 24\"\n",
              "     width=\"24px\">\n",
              "    <g>\n",
              "        <path d=\"M19 3H5c-1.1 0-2 .9-2 2v14c0 1.1.9 2 2 2h14c1.1 0 2-.9 2-2V5c0-1.1-.9-2-2-2zM9 17H7v-7h2v7zm4 0h-2V7h2v10zm4 0h-2v-4h2v4z\"/>\n",
              "    </g>\n",
              "</svg>\n",
              "  </button>\n",
              "\n",
              "<style>\n",
              "  .colab-df-quickchart {\n",
              "      --bg-color: #E8F0FE;\n",
              "      --fill-color: #1967D2;\n",
              "      --hover-bg-color: #E2EBFA;\n",
              "      --hover-fill-color: #174EA6;\n",
              "      --disabled-fill-color: #AAA;\n",
              "      --disabled-bg-color: #DDD;\n",
              "  }\n",
              "\n",
              "  [theme=dark] .colab-df-quickchart {\n",
              "      --bg-color: #3B4455;\n",
              "      --fill-color: #D2E3FC;\n",
              "      --hover-bg-color: #434B5C;\n",
              "      --hover-fill-color: #FFFFFF;\n",
              "      --disabled-bg-color: #3B4455;\n",
              "      --disabled-fill-color: #666;\n",
              "  }\n",
              "\n",
              "  .colab-df-quickchart {\n",
              "    background-color: var(--bg-color);\n",
              "    border: none;\n",
              "    border-radius: 50%;\n",
              "    cursor: pointer;\n",
              "    display: none;\n",
              "    fill: var(--fill-color);\n",
              "    height: 32px;\n",
              "    padding: 0;\n",
              "    width: 32px;\n",
              "  }\n",
              "\n",
              "  .colab-df-quickchart:hover {\n",
              "    background-color: var(--hover-bg-color);\n",
              "    box-shadow: 0 1px 2px rgba(60, 64, 67, 0.3), 0 1px 3px 1px rgba(60, 64, 67, 0.15);\n",
              "    fill: var(--button-hover-fill-color);\n",
              "  }\n",
              "\n",
              "  .colab-df-quickchart-complete:disabled,\n",
              "  .colab-df-quickchart-complete:disabled:hover {\n",
              "    background-color: var(--disabled-bg-color);\n",
              "    fill: var(--disabled-fill-color);\n",
              "    box-shadow: none;\n",
              "  }\n",
              "\n",
              "  .colab-df-spinner {\n",
              "    border: 2px solid var(--fill-color);\n",
              "    border-color: transparent;\n",
              "    border-bottom-color: var(--fill-color);\n",
              "    animation:\n",
              "      spin 1s steps(1) infinite;\n",
              "  }\n",
              "\n",
              "  @keyframes spin {\n",
              "    0% {\n",
              "      border-color: transparent;\n",
              "      border-bottom-color: var(--fill-color);\n",
              "      border-left-color: var(--fill-color);\n",
              "    }\n",
              "    20% {\n",
              "      border-color: transparent;\n",
              "      border-left-color: var(--fill-color);\n",
              "      border-top-color: var(--fill-color);\n",
              "    }\n",
              "    30% {\n",
              "      border-color: transparent;\n",
              "      border-left-color: var(--fill-color);\n",
              "      border-top-color: var(--fill-color);\n",
              "      border-right-color: var(--fill-color);\n",
              "    }\n",
              "    40% {\n",
              "      border-color: transparent;\n",
              "      border-right-color: var(--fill-color);\n",
              "      border-top-color: var(--fill-color);\n",
              "    }\n",
              "    60% {\n",
              "      border-color: transparent;\n",
              "      border-right-color: var(--fill-color);\n",
              "    }\n",
              "    80% {\n",
              "      border-color: transparent;\n",
              "      border-right-color: var(--fill-color);\n",
              "      border-bottom-color: var(--fill-color);\n",
              "    }\n",
              "    90% {\n",
              "      border-color: transparent;\n",
              "      border-bottom-color: var(--fill-color);\n",
              "    }\n",
              "  }\n",
              "</style>\n",
              "\n",
              "  <script>\n",
              "    async function quickchart(key) {\n",
              "      const quickchartButtonEl =\n",
              "        document.querySelector('#' + key + ' button');\n",
              "      quickchartButtonEl.disabled = true;  // To prevent multiple clicks.\n",
              "      quickchartButtonEl.classList.add('colab-df-spinner');\n",
              "      try {\n",
              "        const charts = await google.colab.kernel.invokeFunction(\n",
              "            'suggestCharts', [key], {});\n",
              "      } catch (error) {\n",
              "        console.error('Error during call to suggestCharts:', error);\n",
              "      }\n",
              "      quickchartButtonEl.classList.remove('colab-df-spinner');\n",
              "      quickchartButtonEl.classList.add('colab-df-quickchart-complete');\n",
              "    }\n",
              "    (() => {\n",
              "      let quickchartButtonEl =\n",
              "        document.querySelector('#df-96c023a1-0ce3-49b2-9e48-45e788b7cc69 button');\n",
              "      quickchartButtonEl.style.display =\n",
              "        google.colab.kernel.accessAllowed ? 'block' : 'none';\n",
              "    })();\n",
              "  </script>\n",
              "</div>\n",
              "\n",
              "  <div id=\"id_e4c65147-e23a-4c0f-86fa-ebb120279624\">\n",
              "    <style>\n",
              "      .colab-df-generate {\n",
              "        background-color: #E8F0FE;\n",
              "        border: none;\n",
              "        border-radius: 50%;\n",
              "        cursor: pointer;\n",
              "        display: none;\n",
              "        fill: #1967D2;\n",
              "        height: 32px;\n",
              "        padding: 0 0 0 0;\n",
              "        width: 32px;\n",
              "      }\n",
              "\n",
              "      .colab-df-generate:hover {\n",
              "        background-color: #E2EBFA;\n",
              "        box-shadow: 0px 1px 2px rgba(60, 64, 67, 0.3), 0px 1px 3px 1px rgba(60, 64, 67, 0.15);\n",
              "        fill: #174EA6;\n",
              "      }\n",
              "\n",
              "      [theme=dark] .colab-df-generate {\n",
              "        background-color: #3B4455;\n",
              "        fill: #D2E3FC;\n",
              "      }\n",
              "\n",
              "      [theme=dark] .colab-df-generate:hover {\n",
              "        background-color: #434B5C;\n",
              "        box-shadow: 0px 1px 3px 1px rgba(0, 0, 0, 0.15);\n",
              "        filter: drop-shadow(0px 1px 2px rgba(0, 0, 0, 0.3));\n",
              "        fill: #FFFFFF;\n",
              "      }\n",
              "    </style>\n",
              "    <button class=\"colab-df-generate\" onclick=\"generateWithVariable('ks_df')\"\n",
              "            title=\"Generate code using this dataframe.\"\n",
              "            style=\"display:none;\">\n",
              "\n",
              "  <svg xmlns=\"http://www.w3.org/2000/svg\" height=\"24px\"viewBox=\"0 0 24 24\"\n",
              "       width=\"24px\">\n",
              "    <path d=\"M7,19H8.4L18.45,9,17,7.55,7,17.6ZM5,21V16.75L18.45,3.32a2,2,0,0,1,2.83,0l1.4,1.43a1.91,1.91,0,0,1,.58,1.4,1.91,1.91,0,0,1-.58,1.4L9.25,21ZM18.45,9,17,7.55Zm-12,3A5.31,5.31,0,0,0,4.9,8.1,5.31,5.31,0,0,0,1,6.5,5.31,5.31,0,0,0,4.9,4.9,5.31,5.31,0,0,0,6.5,1,5.31,5.31,0,0,0,8.1,4.9,5.31,5.31,0,0,0,12,6.5,5.46,5.46,0,0,0,6.5,12Z\"/>\n",
              "  </svg>\n",
              "    </button>\n",
              "    <script>\n",
              "      (() => {\n",
              "      const buttonEl =\n",
              "        document.querySelector('#id_e4c65147-e23a-4c0f-86fa-ebb120279624 button.colab-df-generate');\n",
              "      buttonEl.style.display =\n",
              "        google.colab.kernel.accessAllowed ? 'block' : 'none';\n",
              "\n",
              "      buttonEl.onclick = () => {\n",
              "        google.colab.notebook.generateWithVariable('ks_df');\n",
              "      }\n",
              "      })();\n",
              "    </script>\n",
              "  </div>\n",
              "\n",
              "    </div>\n",
              "  </div>\n"
            ],
            "application/vnd.google.colaboratory.intrinsic+json": {
              "type": "dataframe",
              "variable_name": "ks_df",
              "summary": "{\n  \"name\": \"ks_df\",\n  \"rows\": 3,\n  \"fields\": [\n    {\n      \"column\": \"Model\",\n      \"properties\": {\n        \"dtype\": \"string\",\n        \"num_unique_values\": 3,\n        \"samples\": [\n          \"Gaussian Mixture\",\n          \"FlexCode\",\n          \"NFlow\"\n        ],\n        \"semantic_type\": \"\",\n        \"description\": \"\"\n      }\n    },\n    {\n      \"column\": \"KS Statistic\",\n      \"properties\": {\n        \"dtype\": \"number\",\n        \"std\": 0.10706478347699899,\n        \"min\": 0.055588428196182205,\n        \"max\": 0.26885151843973715,\n        \"num_unique_values\": 3,\n        \"samples\": [\n          0.1455543098821096,\n          0.055588428196182205,\n          0.26885151843973715\n        ],\n        \"semantic_type\": \"\",\n        \"description\": \"\"\n      }\n    },\n    {\n      \"column\": \"p-value\",\n      \"properties\": {\n        \"dtype\": \"number\",\n        \"std\": 1.5433323785297419e-27,\n        \"min\": 0.0,\n        \"max\": 2.6731300925796354e-27,\n        \"num_unique_values\": 3,\n        \"samples\": [\n          2.3264104671118584e-185,\n          2.6731300925796354e-27,\n          0.0\n        ],\n        \"semantic_type\": \"\",\n        \"description\": \"\"\n      }\n    }\n  ]\n}"
            }
          },
          "metadata": {},
          "execution_count": 75
        }
      ]
    }
  ],
  "metadata": {
    "colab": {
      "provenance": []
    },
    "kernelspec": {
      "display_name": "Python 3",
      "name": "python3"
    },
    "language_info": {
      "name": "python"
    }
  },
  "nbformat": 4,
  "nbformat_minor": 0
}